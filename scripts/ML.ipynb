{
 "cells": [
  {
   "cell_type": "code",
   "execution_count": 32,
   "metadata": {},
   "outputs": [],
   "source": [
    "#Libraries\n",
    "import numpy as np\n",
    "import matplotlib.pyplot as plt\n",
    "import pandas as pd\n",
    "import numpy as np\n",
    "import tensorflow as tf\n",
    "import keras as kr\n",
    "import sklearn as sk\n",
    "import matplotlib.pyplot as plt\n"
   ]
  },
  {
   "cell_type": "code",
   "execution_count": 33,
   "metadata": {},
   "outputs": [],
   "source": [
    "#Load the data from a CSV file, assuming it is downloaded in home folder\n",
    "data_train = pd.read_csv('/home/bash/Downloads/tss/train.csv')"
   ]
  },
  {
   "cell_type": "code",
   "execution_count": 34,
   "metadata": {},
   "outputs": [
    {
     "data": {
      "text/html": [
       "<div>\n",
       "<style scoped>\n",
       "    .dataframe tbody tr th:only-of-type {\n",
       "        vertical-align: middle;\n",
       "    }\n",
       "\n",
       "    .dataframe tbody tr th {\n",
       "        vertical-align: top;\n",
       "    }\n",
       "\n",
       "    .dataframe thead th {\n",
       "        text-align: right;\n",
       "    }\n",
       "</style>\n",
       "<table border=\"1\" class=\"dataframe\">\n",
       "  <thead>\n",
       "    <tr style=\"text-align: right;\">\n",
       "      <th></th>\n",
       "      <th>id</th>\n",
       "      <th>dur</th>\n",
       "      <th>proto</th>\n",
       "      <th>service</th>\n",
       "      <th>state</th>\n",
       "      <th>spkts</th>\n",
       "      <th>dpkts</th>\n",
       "      <th>sbytes</th>\n",
       "      <th>dbytes</th>\n",
       "      <th>rate</th>\n",
       "      <th>...</th>\n",
       "      <th>ct_dst_sport_ltm</th>\n",
       "      <th>ct_dst_src_ltm</th>\n",
       "      <th>is_ftp_login</th>\n",
       "      <th>ct_ftp_cmd</th>\n",
       "      <th>ct_flw_http_mthd</th>\n",
       "      <th>ct_src_ltm</th>\n",
       "      <th>ct_srv_dst</th>\n",
       "      <th>is_sm_ips_ports</th>\n",
       "      <th>attack_cat</th>\n",
       "      <th>label</th>\n",
       "    </tr>\n",
       "  </thead>\n",
       "  <tbody>\n",
       "    <tr>\n",
       "      <td>0</td>\n",
       "      <td>1</td>\n",
       "      <td>0.000011</td>\n",
       "      <td>udp</td>\n",
       "      <td>-</td>\n",
       "      <td>INT</td>\n",
       "      <td>2</td>\n",
       "      <td>0</td>\n",
       "      <td>496</td>\n",
       "      <td>0</td>\n",
       "      <td>90909.0902</td>\n",
       "      <td>...</td>\n",
       "      <td>1</td>\n",
       "      <td>2</td>\n",
       "      <td>0</td>\n",
       "      <td>0</td>\n",
       "      <td>0</td>\n",
       "      <td>1</td>\n",
       "      <td>2</td>\n",
       "      <td>0</td>\n",
       "      <td>Normal</td>\n",
       "      <td>0</td>\n",
       "    </tr>\n",
       "    <tr>\n",
       "      <td>1</td>\n",
       "      <td>2</td>\n",
       "      <td>0.000008</td>\n",
       "      <td>udp</td>\n",
       "      <td>-</td>\n",
       "      <td>INT</td>\n",
       "      <td>2</td>\n",
       "      <td>0</td>\n",
       "      <td>1762</td>\n",
       "      <td>0</td>\n",
       "      <td>125000.0003</td>\n",
       "      <td>...</td>\n",
       "      <td>1</td>\n",
       "      <td>2</td>\n",
       "      <td>0</td>\n",
       "      <td>0</td>\n",
       "      <td>0</td>\n",
       "      <td>1</td>\n",
       "      <td>2</td>\n",
       "      <td>0</td>\n",
       "      <td>Normal</td>\n",
       "      <td>0</td>\n",
       "    </tr>\n",
       "    <tr>\n",
       "      <td>2</td>\n",
       "      <td>3</td>\n",
       "      <td>0.000005</td>\n",
       "      <td>udp</td>\n",
       "      <td>-</td>\n",
       "      <td>INT</td>\n",
       "      <td>2</td>\n",
       "      <td>0</td>\n",
       "      <td>1068</td>\n",
       "      <td>0</td>\n",
       "      <td>200000.0051</td>\n",
       "      <td>...</td>\n",
       "      <td>1</td>\n",
       "      <td>3</td>\n",
       "      <td>0</td>\n",
       "      <td>0</td>\n",
       "      <td>0</td>\n",
       "      <td>1</td>\n",
       "      <td>3</td>\n",
       "      <td>0</td>\n",
       "      <td>Normal</td>\n",
       "      <td>0</td>\n",
       "    </tr>\n",
       "    <tr>\n",
       "      <td>3</td>\n",
       "      <td>4</td>\n",
       "      <td>0.000006</td>\n",
       "      <td>udp</td>\n",
       "      <td>-</td>\n",
       "      <td>INT</td>\n",
       "      <td>2</td>\n",
       "      <td>0</td>\n",
       "      <td>900</td>\n",
       "      <td>0</td>\n",
       "      <td>166666.6608</td>\n",
       "      <td>...</td>\n",
       "      <td>1</td>\n",
       "      <td>3</td>\n",
       "      <td>0</td>\n",
       "      <td>0</td>\n",
       "      <td>0</td>\n",
       "      <td>2</td>\n",
       "      <td>3</td>\n",
       "      <td>0</td>\n",
       "      <td>Normal</td>\n",
       "      <td>0</td>\n",
       "    </tr>\n",
       "    <tr>\n",
       "      <td>4</td>\n",
       "      <td>5</td>\n",
       "      <td>0.000010</td>\n",
       "      <td>udp</td>\n",
       "      <td>-</td>\n",
       "      <td>INT</td>\n",
       "      <td>2</td>\n",
       "      <td>0</td>\n",
       "      <td>2126</td>\n",
       "      <td>0</td>\n",
       "      <td>100000.0025</td>\n",
       "      <td>...</td>\n",
       "      <td>1</td>\n",
       "      <td>3</td>\n",
       "      <td>0</td>\n",
       "      <td>0</td>\n",
       "      <td>0</td>\n",
       "      <td>2</td>\n",
       "      <td>3</td>\n",
       "      <td>0</td>\n",
       "      <td>Normal</td>\n",
       "      <td>0</td>\n",
       "    </tr>\n",
       "  </tbody>\n",
       "</table>\n",
       "<p>5 rows × 45 columns</p>\n",
       "</div>"
      ],
      "text/plain": [
       "   id       dur proto service state  spkts  dpkts  sbytes  dbytes  \\\n",
       "0   1  0.000011   udp       -   INT      2      0     496       0   \n",
       "1   2  0.000008   udp       -   INT      2      0    1762       0   \n",
       "2   3  0.000005   udp       -   INT      2      0    1068       0   \n",
       "3   4  0.000006   udp       -   INT      2      0     900       0   \n",
       "4   5  0.000010   udp       -   INT      2      0    2126       0   \n",
       "\n",
       "          rate  ...  ct_dst_sport_ltm  ct_dst_src_ltm  is_ftp_login  \\\n",
       "0   90909.0902  ...                 1               2             0   \n",
       "1  125000.0003  ...                 1               2             0   \n",
       "2  200000.0051  ...                 1               3             0   \n",
       "3  166666.6608  ...                 1               3             0   \n",
       "4  100000.0025  ...                 1               3             0   \n",
       "\n",
       "   ct_ftp_cmd  ct_flw_http_mthd  ct_src_ltm  ct_srv_dst  is_sm_ips_ports  \\\n",
       "0           0                 0           1           2                0   \n",
       "1           0                 0           1           2                0   \n",
       "2           0                 0           1           3                0   \n",
       "3           0                 0           2           3                0   \n",
       "4           0                 0           2           3                0   \n",
       "\n",
       "   attack_cat  label  \n",
       "0      Normal      0  \n",
       "1      Normal      0  \n",
       "2      Normal      0  \n",
       "3      Normal      0  \n",
       "4      Normal      0  \n",
       "\n",
       "[5 rows x 45 columns]"
      ]
     },
     "execution_count": 34,
     "metadata": {},
     "output_type": "execute_result"
    }
   ],
   "source": [
    "data_train['attack_cat'] = data_train['attack_cat'].fillna('Normal')\n",
    "data_train.head(5)"
   ]
  },
  {
   "cell_type": "code",
   "execution_count": 35,
   "metadata": {},
   "outputs": [
    {
     "name": "stdout",
     "output_type": "stream",
     "text": [
      "id                     int64\n",
      "dur                  float64\n",
      "proto                 object\n",
      "service               object\n",
      "state                 object\n",
      "spkts                  int64\n",
      "dpkts                  int64\n",
      "sbytes                 int64\n",
      "dbytes                 int64\n",
      "rate                 float64\n",
      "sttl                   int64\n",
      "dttl                   int64\n",
      "sload                float64\n",
      "dload                float64\n",
      "sloss                  int64\n",
      "dloss                  int64\n",
      "sinpkt               float64\n",
      "dinpkt               float64\n",
      "sjit                 float64\n",
      "djit                 float64\n",
      "swin                   int64\n",
      "stcpb                  int64\n",
      "dtcpb                  int64\n",
      "dwin                   int64\n",
      "tcprtt               float64\n",
      "synack               float64\n",
      "ackdat               float64\n",
      "smean                  int64\n",
      "dmean                  int64\n",
      "trans_depth            int64\n",
      "response_body_len      int64\n",
      "ct_srv_src             int64\n",
      "ct_state_ttl           int64\n",
      "ct_dst_ltm             int64\n",
      "ct_src_dport_ltm       int64\n",
      "ct_dst_sport_ltm       int64\n",
      "ct_dst_src_ltm         int64\n",
      "is_ftp_login           int64\n",
      "ct_ftp_cmd             int64\n",
      "ct_flw_http_mthd       int64\n",
      "ct_src_ltm             int64\n",
      "ct_srv_dst             int64\n",
      "is_sm_ips_ports        int64\n",
      "attack_cat            object\n",
      "label                  int64\n",
      "dtype: object\n"
     ]
    },
    {
     "data": {
      "text/plain": [
       "(82332, 45)"
      ]
     },
     "execution_count": 35,
     "metadata": {},
     "output_type": "execute_result"
    }
   ],
   "source": [
    "print(data_train.dtypes)\n",
    "data_train.shape"
   ]
  },
  {
   "cell_type": "code",
   "execution_count": 36,
   "metadata": {},
   "outputs": [],
   "source": [
    "#Separate labels/ground truth\n",
    "\n",
    "train_label_attack_category = np.array(data_train['attack_cat'])\n",
    "train_label_label = np.array(data_train['label'])\n",
    "train_label_attack_category_orig = train_label_attack_category\n",
    "\n",
    "#Remove labels from data \n",
    "data_train = data_train.drop('attack_cat', axis = 1)\n",
    "data_train = data_train.drop('label', axis = 1)\n"
   ]
  },
  {
   "cell_type": "code",
   "execution_count": 14,
   "metadata": {},
   "outputs": [
    {
     "ename": "NameError",
     "evalue": "name 'X' is not defined",
     "output_type": "error",
     "traceback": [
      "\u001b[0;31m---------------------------------------------------------------------------\u001b[0m",
      "\u001b[0;31mNameError\u001b[0m                                 Traceback (most recent call last)",
      "\u001b[0;32m<ipython-input-14-cc422cda3b73>\u001b[0m in \u001b[0;36m<module>\u001b[0;34m\u001b[0m\n\u001b[1;32m      1\u001b[0m \u001b[0;31m#One hot encoding\u001b[0m\u001b[0;34m\u001b[0m\u001b[0;34m\u001b[0m\u001b[0;34m\u001b[0m\u001b[0m\n\u001b[0;32m----> 2\u001b[0;31m \u001b[0mX\u001b[0m \u001b[0;34m=\u001b[0m \u001b[0mpd\u001b[0m\u001b[0;34m.\u001b[0m\u001b[0mget_dummies\u001b[0m\u001b[0;34m(\u001b[0m\u001b[0mX\u001b[0m\u001b[0;34m)\u001b[0m\u001b[0;34m\u001b[0m\u001b[0;34m\u001b[0m\u001b[0m\n\u001b[0m\u001b[1;32m      3\u001b[0m \u001b[0mX\u001b[0m\u001b[0;34m.\u001b[0m\u001b[0mshape\u001b[0m\u001b[0;34m\u001b[0m\u001b[0;34m\u001b[0m\u001b[0m\n",
      "\u001b[0;31mNameError\u001b[0m: name 'X' is not defined"
     ]
    }
   ],
   "source": [
    "#One hot encoding\n",
    "X = pd.get_dummies(X)\n",
    "X.shape\n"
   ]
  },
  {
   "cell_type": "code",
   "execution_count": null,
   "metadata": {},
   "outputs": [],
   "source": [
    "\n"
   ]
  },
  {
   "cell_type": "code",
   "execution_count": 37,
   "metadata": {},
   "outputs": [
    {
     "ename": "NameError",
     "evalue": "name 'X' is not defined",
     "output_type": "error",
     "traceback": [
      "\u001b[0;31m---------------------------------------------------------------------------\u001b[0m",
      "\u001b[0;31mNameError\u001b[0m                                 Traceback (most recent call last)",
      "\u001b[0;32m<ipython-input-37-611adba35fd7>\u001b[0m in \u001b[0;36m<module>\u001b[0;34m\u001b[0m\n\u001b[1;32m      7\u001b[0m \u001b[0;34m\u001b[0m\u001b[0m\n\u001b[1;32m      8\u001b[0m \u001b[0mdata_wo_X\u001b[0m\u001b[0;34m.\u001b[0m\u001b[0mshape\u001b[0m\u001b[0;34m\u001b[0m\u001b[0;34m\u001b[0m\u001b[0m\n\u001b[0;32m----> 9\u001b[0;31m \u001b[0mframes\u001b[0m \u001b[0;34m=\u001b[0m \u001b[0;34m[\u001b[0m\u001b[0mdata_wo_X\u001b[0m\u001b[0;34m,\u001b[0m \u001b[0mX\u001b[0m\u001b[0;34m]\u001b[0m\u001b[0;34m\u001b[0m\u001b[0;34m\u001b[0m\u001b[0m\n\u001b[0m\u001b[1;32m     10\u001b[0m \u001b[0mdata_train\u001b[0m \u001b[0;34m=\u001b[0m \u001b[0mpd\u001b[0m\u001b[0;34m.\u001b[0m\u001b[0mconcat\u001b[0m\u001b[0;34m(\u001b[0m\u001b[0mframes\u001b[0m\u001b[0;34m,\u001b[0m \u001b[0maxis\u001b[0m\u001b[0;34m=\u001b[0m\u001b[0;36m1\u001b[0m\u001b[0;34m)\u001b[0m\u001b[0;34m\u001b[0m\u001b[0;34m\u001b[0m\u001b[0m\n\u001b[1;32m     11\u001b[0m \u001b[0;32mdel\u001b[0m \u001b[0mdata_wo_X\u001b[0m\u001b[0;34m\u001b[0m\u001b[0;34m\u001b[0m\u001b[0m\n",
      "\u001b[0;31mNameError\u001b[0m: name 'X' is not defined"
     ]
    }
   ],
   "source": [
    "\n",
    "\n",
    "\n",
    "#combine the data\n",
    "data_wo_X = data_train\n",
    "data_wo_X = data_wo_X.drop('proto', axis=1)\n",
    "data_wo_X = data_wo_X.drop('state', axis=1)\n",
    "data_wo_X = data_wo_X.drop('service', axis=1)\n",
    "#data_wo_X = data_wo_X.drop('ct_ftp_cmd', axis=1)\n",
    "\n",
    "data_wo_X.shape\n",
    "frames = [data_wo_X, X]\n",
    "data_train = pd.concat(frames, axis=1)\n",
    "del data_wo_X\n",
    "del X\n",
    "del frames\n",
    "data_train.head(5)"
   ]
  },
  {
   "cell_type": "code",
   "execution_count": 38,
   "metadata": {},
   "outputs": [
    {
     "data": {
      "text/html": [
       "<div>\n",
       "<style scoped>\n",
       "    .dataframe tbody tr th:only-of-type {\n",
       "        vertical-align: middle;\n",
       "    }\n",
       "\n",
       "    .dataframe tbody tr th {\n",
       "        vertical-align: top;\n",
       "    }\n",
       "\n",
       "    .dataframe thead th {\n",
       "        text-align: right;\n",
       "    }\n",
       "</style>\n",
       "<table border=\"1\" class=\"dataframe\">\n",
       "  <thead>\n",
       "    <tr style=\"text-align: right;\">\n",
       "      <th></th>\n",
       "      <th>sttl</th>\n",
       "      <th>ct_state_ttl</th>\n",
       "      <th>dttl</th>\n",
       "      <th>sload</th>\n",
       "      <th>dpkts</th>\n",
       "      <th>dmean</th>\n",
       "      <th>sbytes</th>\n",
       "      <th>dload</th>\n",
       "      <th>smean</th>\n",
       "      <th>tcprtt</th>\n",
       "      <th>dur</th>\n",
       "    </tr>\n",
       "  </thead>\n",
       "  <tbody>\n",
       "    <tr>\n",
       "      <td>0</td>\n",
       "      <td>254</td>\n",
       "      <td>2</td>\n",
       "      <td>0</td>\n",
       "      <td>1.803636e+08</td>\n",
       "      <td>0</td>\n",
       "      <td>0</td>\n",
       "      <td>496</td>\n",
       "      <td>0.000000</td>\n",
       "      <td>248</td>\n",
       "      <td>0.000000</td>\n",
       "      <td>0.000011</td>\n",
       "    </tr>\n",
       "    <tr>\n",
       "      <td>1</td>\n",
       "      <td>254</td>\n",
       "      <td>2</td>\n",
       "      <td>0</td>\n",
       "      <td>8.810000e+08</td>\n",
       "      <td>0</td>\n",
       "      <td>0</td>\n",
       "      <td>1762</td>\n",
       "      <td>0.000000</td>\n",
       "      <td>881</td>\n",
       "      <td>0.000000</td>\n",
       "      <td>0.000008</td>\n",
       "    </tr>\n",
       "    <tr>\n",
       "      <td>2</td>\n",
       "      <td>254</td>\n",
       "      <td>2</td>\n",
       "      <td>0</td>\n",
       "      <td>8.544000e+08</td>\n",
       "      <td>0</td>\n",
       "      <td>0</td>\n",
       "      <td>1068</td>\n",
       "      <td>0.000000</td>\n",
       "      <td>534</td>\n",
       "      <td>0.000000</td>\n",
       "      <td>0.000005</td>\n",
       "    </tr>\n",
       "    <tr>\n",
       "      <td>3</td>\n",
       "      <td>254</td>\n",
       "      <td>2</td>\n",
       "      <td>0</td>\n",
       "      <td>6.000000e+08</td>\n",
       "      <td>0</td>\n",
       "      <td>0</td>\n",
       "      <td>900</td>\n",
       "      <td>0.000000</td>\n",
       "      <td>450</td>\n",
       "      <td>0.000000</td>\n",
       "      <td>0.000006</td>\n",
       "    </tr>\n",
       "    <tr>\n",
       "      <td>4</td>\n",
       "      <td>254</td>\n",
       "      <td>2</td>\n",
       "      <td>0</td>\n",
       "      <td>8.504000e+08</td>\n",
       "      <td>0</td>\n",
       "      <td>0</td>\n",
       "      <td>2126</td>\n",
       "      <td>0.000000</td>\n",
       "      <td>1063</td>\n",
       "      <td>0.000000</td>\n",
       "      <td>0.000010</td>\n",
       "    </tr>\n",
       "    <tr>\n",
       "      <td>...</td>\n",
       "      <td>...</td>\n",
       "      <td>...</td>\n",
       "      <td>...</td>\n",
       "      <td>...</td>\n",
       "      <td>...</td>\n",
       "      <td>...</td>\n",
       "      <td>...</td>\n",
       "      <td>...</td>\n",
       "      <td>...</td>\n",
       "      <td>...</td>\n",
       "      <td>...</td>\n",
       "    </tr>\n",
       "    <tr>\n",
       "      <td>95</td>\n",
       "      <td>254</td>\n",
       "      <td>6</td>\n",
       "      <td>0</td>\n",
       "      <td>2.468177e+02</td>\n",
       "      <td>0</td>\n",
       "      <td>0</td>\n",
       "      <td>540</td>\n",
       "      <td>0.000000</td>\n",
       "      <td>45</td>\n",
       "      <td>0.000000</td>\n",
       "      <td>16.044233</td>\n",
       "    </tr>\n",
       "    <tr>\n",
       "      <td>96</td>\n",
       "      <td>254</td>\n",
       "      <td>1</td>\n",
       "      <td>252</td>\n",
       "      <td>5.790716e+03</td>\n",
       "      <td>6</td>\n",
       "      <td>45</td>\n",
       "      <td>534</td>\n",
       "      <td>2696.715820</td>\n",
       "      <td>53</td>\n",
       "      <td>0.148054</td>\n",
       "      <td>0.664512</td>\n",
       "    </tr>\n",
       "    <tr>\n",
       "      <td>97</td>\n",
       "      <td>254</td>\n",
       "      <td>1</td>\n",
       "      <td>252</td>\n",
       "      <td>4.473337e+03</td>\n",
       "      <td>6</td>\n",
       "      <td>45</td>\n",
       "      <td>534</td>\n",
       "      <td>2083.217041</td>\n",
       "      <td>53</td>\n",
       "      <td>0.167170</td>\n",
       "      <td>0.860208</td>\n",
       "    </tr>\n",
       "    <tr>\n",
       "      <td>98</td>\n",
       "      <td>254</td>\n",
       "      <td>6</td>\n",
       "      <td>0</td>\n",
       "      <td>2.145334e+02</td>\n",
       "      <td>0</td>\n",
       "      <td>0</td>\n",
       "      <td>450</td>\n",
       "      <td>0.000000</td>\n",
       "      <td>45</td>\n",
       "      <td>0.000000</td>\n",
       "      <td>15.102544</td>\n",
       "    </tr>\n",
       "    <tr>\n",
       "      <td>99</td>\n",
       "      <td>62</td>\n",
       "      <td>1</td>\n",
       "      <td>252</td>\n",
       "      <td>2.946281e+03</td>\n",
       "      <td>10</td>\n",
       "      <td>123</td>\n",
       "      <td>810</td>\n",
       "      <td>4469.939941</td>\n",
       "      <td>81</td>\n",
       "      <td>0.141090</td>\n",
       "      <td>1.979445</td>\n",
       "    </tr>\n",
       "  </tbody>\n",
       "</table>\n",
       "<p>100 rows × 11 columns</p>\n",
       "</div>"
      ],
      "text/plain": [
       "    sttl  ct_state_ttl  dttl         sload  dpkts  dmean  sbytes        dload  \\\n",
       "0    254             2     0  1.803636e+08      0      0     496     0.000000   \n",
       "1    254             2     0  8.810000e+08      0      0    1762     0.000000   \n",
       "2    254             2     0  8.544000e+08      0      0    1068     0.000000   \n",
       "3    254             2     0  6.000000e+08      0      0     900     0.000000   \n",
       "4    254             2     0  8.504000e+08      0      0    2126     0.000000   \n",
       "..   ...           ...   ...           ...    ...    ...     ...          ...   \n",
       "95   254             6     0  2.468177e+02      0      0     540     0.000000   \n",
       "96   254             1   252  5.790716e+03      6     45     534  2696.715820   \n",
       "97   254             1   252  4.473337e+03      6     45     534  2083.217041   \n",
       "98   254             6     0  2.145334e+02      0      0     450     0.000000   \n",
       "99    62             1   252  2.946281e+03     10    123     810  4469.939941   \n",
       "\n",
       "    smean    tcprtt        dur  \n",
       "0     248  0.000000   0.000011  \n",
       "1     881  0.000000   0.000008  \n",
       "2     534  0.000000   0.000005  \n",
       "3     450  0.000000   0.000006  \n",
       "4    1063  0.000000   0.000010  \n",
       "..    ...       ...        ...  \n",
       "95     45  0.000000  16.044233  \n",
       "96     53  0.148054   0.664512  \n",
       "97     53  0.167170   0.860208  \n",
       "98     45  0.000000  15.102544  \n",
       "99     81  0.141090   1.979445  \n",
       "\n",
       "[100 rows x 11 columns]"
      ]
     },
     "execution_count": 38,
     "metadata": {},
     "output_type": "execute_result"
    }
   ],
   "source": [
    "#use only top features\n",
    "#data_train_orig = data_train\n",
    "data_top = data_train[['sttl', 'ct_state_ttl', 'dttl', \n",
    "'sload', 'dpkts', 'dmean', 'sbytes', 'dload', 'smean',\n",
    "'tcprtt', 'dur']]\n",
    "#remove ct_srv_dst\n",
    "#remove state_INT\n",
    "data_train = data_top\n",
    "data_top.head(100)\n"
   ]
  },
  {
   "cell_type": "code",
   "execution_count": 39,
   "metadata": {},
   "outputs": [],
   "source": [
    "#del frames\n",
    "#del data_train_one_hot"
   ]
  },
  {
   "cell_type": "code",
   "execution_count": 40,
   "metadata": {},
   "outputs": [
    {
     "data": {
      "text/plain": [
       "['sttl',\n",
       " 'ct_state_ttl',\n",
       " 'dttl',\n",
       " 'sload',\n",
       " 'dpkts',\n",
       " 'dmean',\n",
       " 'sbytes',\n",
       " 'dload',\n",
       " 'smean',\n",
       " 'tcprtt',\n",
       " 'dur']"
      ]
     },
     "execution_count": 40,
     "metadata": {},
     "output_type": "execute_result"
    }
   ],
   "source": [
    "#save original data before splitting into train and test\n",
    "#data_train = data_train_one_hot\n",
    "#data_train_orig = data_train_one_hot\n",
    "#get feature names\n",
    "feature_list = list(data_train.columns)\n",
    "feature_list"
   ]
  },
  {
   "cell_type": "code",
   "execution_count": 41,
   "metadata": {},
   "outputs": [],
   "source": [
    "#convert to numpy array\n",
    "#data_test = np.array(data_test)\n",
    "data_train = np.array(data_train)\n"
   ]
  },
  {
   "cell_type": "code",
   "execution_count": 42,
   "metadata": {},
   "outputs": [],
   "source": [
    "#transform string labels to values\n",
    "from sklearn import preprocessing\n",
    "lencoder = preprocessing.LabelEncoder()\n",
    "\n",
    "lencoder.fit(train_label_attack_category)\n",
    "list(lencoder.classes_)\n",
    "train_label_attack_category = lencoder.transform(train_label_attack_category)\n",
    "\n",
    "#test_label_attack_category = lencoder.transform(test_label_attack_category)\n",
    "\n",
    "lencoder.fit(train_label_label)\n",
    "\n",
    "train_label_label = lencoder.transform(train_label_label)\n",
    "\n",
    "#test_label_label = lencoder.transform(test_label_label)\n"
   ]
  },
  {
   "cell_type": "code",
   "execution_count": 43,
   "metadata": {},
   "outputs": [
    {
     "name": "stdout",
     "output_type": "stream",
     "text": [
      "shapes (20583, 11) (61749, 11)\n"
     ]
    }
   ],
   "source": [
    "#Some bug causes to have more columns in test data\n",
    "#thus lets just work with train_data and split it\n",
    "\n",
    "from sklearn.model_selection import train_test_split\n",
    "data_train, data_test, train_labels, test_labels = train_test_split(data_train, train_label_label, test_size = 0.25, random_state = 50)\n",
    "print('shapes', data_test.shape, data_train.shape)"
   ]
  },
  {
   "cell_type": "code",
   "execution_count": 44,
   "metadata": {},
   "outputs": [
    {
     "data": {
      "text/plain": [
       "DecisionTreeClassifier(class_weight=None, criterion='gini', max_depth=3,\n",
       "                       max_features=None, max_leaf_nodes=None,\n",
       "                       min_impurity_decrease=0.0, min_impurity_split=None,\n",
       "                       min_samples_leaf=1, min_samples_split=2,\n",
       "                       min_weight_fraction_leaf=0.0, presort=False,\n",
       "                       random_state=42, splitter='best')"
      ]
     },
     "execution_count": 44,
     "metadata": {},
     "output_type": "execute_result"
    }
   ],
   "source": [
    "from sklearn.tree import DecisionTreeClassifier\n",
    "dt = DecisionTreeClassifier(max_depth =3, random_state = 42)\n",
    "dt.fit(data_train, train_labels)"
   ]
  },
  {
   "cell_type": "code",
   "execution_count": 45,
   "metadata": {},
   "outputs": [
    {
     "name": "stdout",
     "output_type": "stream",
     "text": [
      "Mean Absolute error 0.14 degrees\n"
     ]
    }
   ],
   "source": [
    "#predictions on test data\n",
    "predictions = dt.predict(data_test)\n",
    "\n",
    "#errors\n",
    "\n",
    "errors = abs(predictions - test_labels)\n",
    "\n",
    "#mean absolute error\n",
    "print('Mean Absolute error', round(np.mean(errors), 2), 'degrees')"
   ]
  },
  {
   "cell_type": "code",
   "execution_count": 46,
   "metadata": {},
   "outputs": [
    {
     "data": {
      "text/plain": [
       "array([[0.07019959, 0.92980041],\n",
       "       [1.        , 0.        ],\n",
       "       [0.64080134, 0.35919866],\n",
       "       [1.        , 0.        ],\n",
       "       [0.64080134, 0.35919866],\n",
       "       [1.        , 0.        ],\n",
       "       [0.07019959, 0.92980041],\n",
       "       [1.        , 0.        ],\n",
       "       [0.07019959, 0.92980041],\n",
       "       [1.        , 0.        ]])"
      ]
     },
     "execution_count": 46,
     "metadata": {},
     "output_type": "execute_result"
    }
   ],
   "source": [
    "predictions\n",
    "\n",
    "dt.predict_proba(data_test)[0:10]"
   ]
  },
  {
   "cell_type": "code",
   "execution_count": 47,
   "metadata": {},
   "outputs": [
    {
     "data": {
      "text/plain": [
       "array([[8510,  697],\n",
       "       [2180, 9196]])"
      ]
     },
     "execution_count": 47,
     "metadata": {},
     "output_type": "execute_result"
    }
   ],
   "source": [
    "# Create confusion matrix\n",
    "from sklearn.metrics import confusion_matrix\n",
    "confusion_matrix(test_labels, predictions)"
   ]
  },
  {
   "cell_type": "code",
   "execution_count": 48,
   "metadata": {},
   "outputs": [
    {
     "data": {
      "text/plain": [
       "(array([0.79607109, 0.92954614]),\n",
       " array([0.92429673, 0.8083685 ]),\n",
       " array([0.85540534, 0.86473271]),\n",
       " array([ 9207, 11376]))"
      ]
     },
     "execution_count": 48,
     "metadata": {},
     "output_type": "execute_result"
    }
   ],
   "source": [
    "from sklearn.metrics import precision_recall_fscore_support\n",
    "precision_recall_fscore_support(test_labels, predictions)"
   ]
  },
  {
   "cell_type": "code",
   "execution_count": 49,
   "metadata": {},
   "outputs": [
    {
     "data": {
      "text/plain": [
       "(0.86280861910941, 0.8663326129128497, 0.8600690235326913, None)"
      ]
     },
     "execution_count": 49,
     "metadata": {},
     "output_type": "execute_result"
    }
   ],
   "source": [
    "precision_recall_fscore_support(test_labels, predictions, average='macro')"
   ]
  },
  {
   "cell_type": "code",
   "execution_count": 50,
   "metadata": {},
   "outputs": [
    {
     "name": "stdout",
     "output_type": "stream",
     "text": [
      "Accuracy: 91.32 %.\n"
     ]
    }
   ],
   "source": [
    "# Calculate mean absolute percentage error (MAPE)\n",
    "mape = 100 * (errors / (test_labels+1))\n",
    "\n",
    "# Calculate and display accuracy\n",
    "accuracy = 100 - np.mean(mape)\n",
    "print('Accuracy:', round(accuracy, 2), '%.')"
   ]
  },
  {
   "cell_type": "code",
   "execution_count": 51,
   "metadata": {},
   "outputs": [
    {
     "name": "stdout",
     "output_type": "stream",
     "text": [
      "Variable: sttl                 Importance: 0.57\n",
      "Variable: tcprtt               Importance: 0.23\n",
      "Variable: smean                Importance: 0.14\n",
      "Variable: dpkts                Importance: 0.05\n",
      "Variable: dur                  Importance: 0.01\n",
      "Variable: ct_state_ttl         Importance: 0.0\n",
      "Variable: dttl                 Importance: 0.0\n",
      "Variable: sload                Importance: 0.0\n",
      "Variable: dmean                Importance: 0.0\n",
      "Variable: sbytes               Importance: 0.0\n",
      "Variable: dload                Importance: 0.0\n"
     ]
    }
   ],
   "source": [
    "# Get numerical feature importances\n",
    "importances = list(dt.feature_importances_)\n",
    "\n",
    "# List of tuples with variable and importance\n",
    "feature_importances = [(feature, round(importance, 2)) for feature, importance in zip(feature_list, importances)]\n",
    "\n",
    "# Sort the feature importances by most important first\n",
    "feature_importances = sorted(feature_importances, key = lambda x: x[1], reverse = True)\n",
    "\n",
    "# Print out the feature and importances \n",
    "[print('Variable: {:20} Importance: {}'.format(*pair)) for pair in feature_importances];\n"
   ]
  },
  {
   "cell_type": "code",
   "execution_count": 52,
   "metadata": {},
   "outputs": [
    {
     "data": {
      "image/png": "[encoded data removed]",
      "text/plain": [
       "<Figure size 432x288 with 1 Axes>"
      ]
     },
     "metadata": {
      "needs_background": "light"
     },
     "output_type": "display_data"
    }
   ],
   "source": [
    "# list of x locations for plotting\n",
    "x_values = list(range(len(importances)))\n",
    "\n",
    "# Make a bar chart\n",
    "plt.bar(x_values, importances, orientation = 'vertical')\n",
    "\n",
    "# Tick labels for x axis\n",
    "plt.xticks(x_values, feature_list, rotation='vertical')\n",
    "\n",
    "# Axis labels and title\n",
    "plt.ylabel('Importance'); plt.xlabel('Variable'); plt.title('Variable Importances');"
   ]
  },
  {
   "cell_type": "code",
   "execution_count": 53,
   "metadata": {},
   "outputs": [
    {
     "data": {
      "text/plain": [
       "[(array([6.20000000e+01, 1.00000000e+00, 2.52000000e+02, 2.17643906e+04,\n",
       "         8.00000000e+00, 1.88000000e+02, 7.62000000e+02, 4.17520977e+04,\n",
       "         7.60000000e+01, 5.46390000e-02, 2.52155000e-01]), 0.568033522696291),\n",
       " (array([2.5400000e+02, 1.0000000e+00, 2.5200000e+02, 1.9205250e+04,\n",
       "         8.0000000e+00, 4.4000000e+01, 2.5160000e+03, 2.6285332e+03,\n",
       "         2.5200000e+02, 1.3450600e-01, 9.4349200e-01]), 0.0),\n",
       " (array([3.10000000e+01, 0.00000000e+00, 2.90000000e+01, 5.51463625e+05,\n",
       "         2.00000000e+00, 8.90000000e+01, 1.46000000e+02, 6.72332375e+05,\n",
       "         7.30000000e+01, 0.00000000e+00, 1.05900000e-03]), 0.0),\n",
       " (array([2.54000000e+02, 1.00000000e+00, 2.52000000e+02, 5.69186133e+03,\n",
       "         8.00000000e+00, 4.40000000e+01, 5.34000000e+02, 3.66835156e+03,\n",
       "         5.30000000e+01, 1.57598000e-01, 6.76053000e-01]),\n",
       "  0.00037057106159032647),\n",
       " (array([6.20000000e+01, 1.00000000e+00, 2.52000000e+02, 4.36387344e+04,\n",
       "         2.20000000e+01, 8.70000000e+01, 1.39090000e+04, 5.92949365e+03,\n",
       "         4.64000000e+02, 1.89834000e-01, 2.46496600e+00]),\n",
       "  0.05333161752044661),\n",
       " (array([2.5400000e+02, 2.0000000e+00, 0.0000000e+00, 5.0666664e+07,\n",
       "         0.0000000e+00, 0.0000000e+00, 1.1400000e+02, 0.0000000e+00,\n",
       "         5.7000000e+01, 0.0000000e+00, 9.0000000e-06]), 0.0),\n",
       " (array([2.54e+02, 2.00e+00, 0.00e+00, 1.14e+08, 0.00e+00, 0.00e+00,\n",
       "         1.14e+02, 0.00e+00, 5.70e+01, 0.00e+00, 4.00e-06]), 0.0),\n",
       " (array([2.54e+02, 2.00e+00, 0.00e+00, 2.28e+08, 0.00e+00, 0.00e+00,\n",
       "         1.14e+02, 0.00e+00, 5.70e+01, 0.00e+00, 2.00e-06]), 0.0),\n",
       " (array([2.54000000e+02, 1.00000000e+00, 2.52000000e+02, 1.16352119e+04,\n",
       "         1.20000000e+01, 5.40000000e+01, 2.17000000e+03, 3.36763623e+03,\n",
       "         1.36000000e+02, 6.63770000e-02, 1.39920100e+00]),\n",
       "  0.14328167680227835),\n",
       " (array([2.54e+02, 2.00e+00, 0.00e+00, 7.60e+07, 0.00e+00, 0.00e+00,\n",
       "         1.14e+02, 0.00e+00, 5.70e+01, 0.00e+00, 6.00e-06]),\n",
       "  0.22973374128839408),\n",
       " (array([2.540e+02, 2.000e+00, 0.000e+00, 6.080e+08, 0.000e+00, 0.000e+00,\n",
       "         1.064e+03, 0.000e+00, 5.320e+02, 0.000e+00, 7.000e-06]),\n",
       "  0.005248870630999714)]"
      ]
     },
     "execution_count": 53,
     "metadata": {},
     "output_type": "execute_result"
    }
   ],
   "source": [
    "list(zip(data_train, dt.feature_importances_))"
   ]
  },
  {
   "cell_type": "code",
   "execution_count": 54,
   "metadata": {},
   "outputs": [
    {
     "data": {
      "text/plain": [
       "11"
      ]
     },
     "execution_count": 54,
     "metadata": {},
     "output_type": "execute_result"
    }
   ],
   "source": [
    "dt.n_features_"
   ]
  },
  {
   "cell_type": "code",
   "execution_count": 55,
   "metadata": {},
   "outputs": [
    {
     "data": {
      "image/png": "[encoded data removed]",
      "text/plain": [
       "<Figure size 1080x360 with 1 Axes>"
      ]
     },
     "metadata": {
      "needs_background": "light"
     },
     "output_type": "display_data"
    }
   ],
   "source": [
    "from sklearn.tree import DecisionTreeClassifier\n",
    "from sklearn.model_selection import cross_val_score\n",
    "import numpy as np\n",
    "import matplotlib.pyplot as plt\n",
    "\n",
    "# function for fitting trees of various depths on the training data using cross-validation\n",
    "def run_cross_validation_on_trees(X, y, tree_depths, cv=5, scoring='accuracy'):\n",
    "    cv_scores_list = []\n",
    "    cv_scores_std = []\n",
    "    cv_scores_mean = []\n",
    "    accuracy_scores = []\n",
    "    for depth in tree_depths:\n",
    "        tree_model = DecisionTreeClassifier(max_depth=depth)\n",
    "        cv_scores = cross_val_score(tree_model, X, y, cv=cv, scoring=scoring)\n",
    "        cv_scores_list.append(cv_scores)\n",
    "        cv_scores_mean.append(cv_scores.mean())\n",
    "        cv_scores_std.append(cv_scores.std())\n",
    "        accuracy_scores.append(tree_model.fit(X, y).score(X, y))\n",
    "    cv_scores_mean = np.array(cv_scores_mean)\n",
    "    cv_scores_std = np.array(cv_scores_std)\n",
    "    accuracy_scores = np.array(accuracy_scores)\n",
    "    return cv_scores_mean, cv_scores_std, accuracy_scores\n",
    "  \n",
    "# function for plotting cross-validation results\n",
    "def plot_cross_validation_on_trees(depths, cv_scores_mean, cv_scores_std, accuracy_scores, title):\n",
    "    fig, ax = plt.subplots(1,1, figsize=(15,5))\n",
    "    ax.plot(depths, cv_scores_mean, '-o', label='mean cross-validation accuracy', alpha=0.9)\n",
    "    ax.fill_between(depths, cv_scores_mean-2*cv_scores_std, cv_scores_mean+2*cv_scores_std, alpha=0.2)\n",
    "    ylim = plt.ylim()\n",
    "    ax.plot(depths, accuracy_scores, '-*', label='train accuracy', alpha=0.9)\n",
    "    ax.set_title(title, fontsize=16)\n",
    "    ax.set_xlabel('Tree depth', fontsize=14)\n",
    "    ax.set_ylabel('Accuracy', fontsize=14)\n",
    "    ax.set_ylim(ylim)\n",
    "    ax.set_xticks(depths)\n",
    "    ax.legend()\n",
    "\n",
    "# fitting trees of depth 1 to 24\n",
    "sm_tree_depths = range(1,25)\n",
    "sm_cv_scores_mean, sm_cv_scores_std, sm_accuracy_scores = run_cross_validation_on_trees(data_train, train_labels, sm_tree_depths)\n",
    "\n",
    "# plotting accuracy\n",
    "plot_cross_validation_on_trees(sm_tree_depths, sm_cv_scores_mean, sm_cv_scores_std, sm_accuracy_scores, \n",
    "                               'Accuracy per decision tree depth on training data')"
   ]
  },
  {
   "cell_type": "code",
   "execution_count": 56,
   "metadata": {},
   "outputs": [
    {
     "data": {
      "text/plain": [
       "DecisionTreeClassifier(class_weight=None, criterion='gini', max_depth=14,\n",
       "                       max_features=None, max_leaf_nodes=None,\n",
       "                       min_impurity_decrease=0.0, min_impurity_split=None,\n",
       "                       min_samples_leaf=1, min_samples_split=2,\n",
       "                       min_weight_fraction_leaf=0.0, presort=False,\n",
       "                       random_state=42, splitter='best')"
      ]
     },
     "execution_count": 56,
     "metadata": {},
     "output_type": "execute_result"
    }
   ],
   "source": [
    "from sklearn.tree import DecisionTreeClassifier\n",
    "dt = DecisionTreeClassifier(max_depth =14, random_state = 42)\n",
    "dt.fit(data_train, train_labels)"
   ]
  },
  {
   "cell_type": "code",
   "execution_count": 57,
   "metadata": {},
   "outputs": [
    {
     "name": "stdout",
     "output_type": "stream",
     "text": [
      "Mean Absolute error 0.07 degrees\n"
     ]
    }
   ],
   "source": [
    "#predictions on test data\n",
    "predictions = dt.predict(data_test)\n",
    "\n",
    "#errors\n",
    "\n",
    "errors = abs(predictions - test_labels)\n",
    "\n",
    "#mean absolute error\n",
    "print('Mean Absolute error', round(np.mean(errors), 2), 'degrees')"
   ]
  },
  {
   "cell_type": "code",
   "execution_count": 58,
   "metadata": {},
   "outputs": [
    {
     "data": {
      "text/plain": [
       "(0.9285674795321327, 0.9318499322199812, 0.929707859509967, None)"
      ]
     },
     "execution_count": 58,
     "metadata": {},
     "output_type": "execute_result"
    }
   ],
   "source": [
    "precision_recall_fscore_support(test_labels, predictions, average='macro')"
   ]
  },
  {
   "cell_type": "code",
   "execution_count": 59,
   "metadata": {},
   "outputs": [
    {
     "name": "stdout",
     "output_type": "stream",
     "text": [
      "Accuracy: 95.34 %.\n"
     ]
    }
   ],
   "source": [
    "# Calculate mean absolute percentage error (MAPE)\n",
    "mape = 100 * (errors / (test_labels+1))\n",
    "\n",
    "# Calculate and display accuracy\n",
    "accuracy = 100 - np.mean(mape)\n",
    "print('Accuracy:', round(accuracy, 2), '%.')"
   ]
  },
  {
   "cell_type": "code",
   "execution_count": 49,
   "metadata": {},
   "outputs": [
    {
     "name": "stdout",
     "output_type": "stream",
     "text": [
      "Variable: sttl                 Importance: 0.4\n",
      "Variable: tcprtt               Importance: 0.18\n",
      "Variable: smean                Importance: 0.17\n",
      "Variable: dmean                Importance: 0.09\n",
      "Variable: sbytes               Importance: 0.05\n",
      "Variable: dur                  Importance: 0.05\n",
      "Variable: dpkts                Importance: 0.04\n",
      "Variable: ct_state_ttl         Importance: 0.01\n",
      "Variable: sload                Importance: 0.01\n",
      "Variable: dload                Importance: 0.01\n",
      "Variable: dttl                 Importance: 0.0\n"
     ]
    }
   ],
   "source": [
    "# Get numerical feature importances\n",
    "importances = list(dt.feature_importances_)\n",
    "\n",
    "# List of tuples with variable and importance\n",
    "feature_importances = [(feature, round(importance, 2)) for feature, importance in zip(feature_list, importances)]\n",
    "\n",
    "# Sort the feature importances by most important first\n",
    "feature_importances = sorted(feature_importances, key = lambda x: x[1], reverse = True)\n",
    "\n",
    "# Print out the feature and importances \n",
    "[print('Variable: {:20} Importance: {}'.format(*pair)) for pair in feature_importances];"
   ]
  },
  {
   "cell_type": "code",
   "execution_count": 50,
   "metadata": {},
   "outputs": [
    {
     "data": {
      "image/png": "[encoded data removed]",
      "text/plain": [
       "<Figure size 432x288 with 1 Axes>"
      ]
     },
     "metadata": {
      "needs_background": "light"
     },
     "output_type": "display_data"
    }
   ],
   "source": [
    "# list of x locations for plotting\n",
    "x_values = list(range(len(importances)))\n",
    "\n",
    "# Make a bar chart\n",
    "plt.bar(x_values, importances, orientation = 'vertical')\n",
    "\n",
    "# Tick labels for x axis\n",
    "plt.xticks(x_values, feature_list, rotation='vertical')\n",
    "\n",
    "# Axis labels and title\n",
    "plt.ylabel('Importance'); plt.xlabel('Variable'); plt.title('Variable Importances');"
   ]
  },
  {
   "cell_type": "code",
   "execution_count": 56,
   "metadata": {},
   "outputs": [
    {
     "name": "stdout",
     "output_type": "stream",
     "text": [
      "Collecting scapy\n",
      "  Downloading scapy-2.4.5.tar.gz (1.1 MB)\n",
      "\u001b[2K     \u001b[38;2;114;156;31m━━━━━━━━━━━━━━━━━━━━━━━━━━━━━━━━━━━━━━━━\u001b[0m \u001b[32m1.1/1.1 MB\u001b[0m \u001b[31m613.9 kB/s\u001b[0m eta \u001b[36m0:00:00\u001b[0mm eta \u001b[36m0:00:01\u001b[0m[36m0:00:01\u001b[0m\n",
      "\u001b[?25h  Preparing metadata (setup.py) ... \u001b[?25ldone\n",
      "\u001b[?25hBuilding wheels for collected packages: scapy\n",
      "  Building wheel for scapy (setup.py) ... \u001b[?25ldone\n",
      "\u001b[?25h  Created wheel for scapy: filename=scapy-2.4.5-py2.py3-none-any.whl size=1261542 sha256=db920b54d1f882ab5274e57fe8d37987d3a6e24ac544fb7e96c68304729e2634\n",
      "  Stored in directory: /home/bash/.cache/pip/wheels/b9/6e/c0/0157e466a5e02d3ff28fc7587dff329b4a967a23b3f9b11385\n",
      "Successfully built scapy\n",
      "Installing collected packages: scapy\n",
      "Successfully installed scapy-2.4.5\n",
      "Note: you may need to restart the kernel to use updated packages.\n"
     ]
    }
   ],
   "source": [
    "pip install scapy"
   ]
  },
  {
   "cell_type": "code",
   "execution_count": 48,
   "metadata": {},
   "outputs": [],
   "source": [
    "import pickle as pickle\n",
    "filename = 'dtfin.sav'\n",
    "pickle.dump(dt, open(filename, 'wb'))"
   ]
  },
  {
   "cell_type": "code",
   "execution_count": 31,
   "metadata": {},
   "outputs": [
    {
     "name": "stdout",
     "output_type": "stream",
     "text": [
      " Fuzzers            5051\n",
      "Analysis             526\n",
      "Backdoors            534\n",
      "DoS                 1167\n",
      "Exploits            5409\n",
      "Generic             7522\n",
      "Normal            677786\n",
      "Reconnaissance      1759\n",
      "Shellcode            223\n",
      "Worms                 24\n",
      "dtype: int64\n"
     ]
    }
   ],
   "source": [
    "one_hot_train_label_attack_category_orig = pd.get_dummies(train_label_attack_category_orig)\n",
    "one_hot_train_label_attack_category_orig.describe()\n",
    "print(one_hot_train_label_attack_category_orig.sum(axis=0))"
   ]
  },
  {
   "cell_type": "code",
   "execution_count": 32,
   "metadata": {},
   "outputs": [
    {
     "ename": "NameError",
     "evalue": "name 'data_train_orig' is not defined",
     "output_type": "error",
     "traceback": [
      "\u001b[0;31m---------------------------------------------------------------------------\u001b[0m",
      "\u001b[0;31mNameError\u001b[0m                                 Traceback (most recent call last)",
      "\u001b[0;32m<ipython-input-32-60104d582aec>\u001b[0m in \u001b[0;36m<module>\u001b[0;34m\u001b[0m\n\u001b[1;32m      1\u001b[0m \u001b[0;31m#Attack: Analysis\u001b[0m\u001b[0;34m\u001b[0m\u001b[0;34m\u001b[0m\u001b[0m\n\u001b[0;32m----> 2\u001b[0;31m \u001b[0mdata_train\u001b[0m \u001b[0;34m=\u001b[0m \u001b[0mdata_train_orig\u001b[0m\u001b[0;34m\u001b[0m\u001b[0m\n\u001b[0m\u001b[1;32m      3\u001b[0m \u001b[0mdata_label\u001b[0m \u001b[0;34m=\u001b[0m \u001b[0mnp\u001b[0m\u001b[0;34m.\u001b[0m\u001b[0marray\u001b[0m\u001b[0;34m(\u001b[0m\u001b[0mone_hot_train_label_attack_category_orig\u001b[0m\u001b[0;34m[\u001b[0m\u001b[0;34m'Analysis'\u001b[0m\u001b[0;34m]\u001b[0m\u001b[0;34m)\u001b[0m\u001b[0;34m\u001b[0m\u001b[0m\n\u001b[1;32m      4\u001b[0m \u001b[0mdata_train\u001b[0m\u001b[0;34m,\u001b[0m \u001b[0mdata_test\u001b[0m\u001b[0;34m,\u001b[0m \u001b[0mtrain_labels\u001b[0m\u001b[0;34m,\u001b[0m \u001b[0mtest_labels\u001b[0m \u001b[0;34m=\u001b[0m \u001b[0mtrain_test_split\u001b[0m\u001b[0;34m(\u001b[0m\u001b[0mdata_train\u001b[0m\u001b[0;34m,\u001b[0m \u001b[0mdata_label\u001b[0m\u001b[0;34m,\u001b[0m \u001b[0mtest_size\u001b[0m \u001b[0;34m=\u001b[0m \u001b[0;36m0.25\u001b[0m\u001b[0;34m,\u001b[0m \u001b[0mrandom_state\u001b[0m \u001b[0;34m=\u001b[0m \u001b[0;36m50\u001b[0m\u001b[0;34m)\u001b[0m\u001b[0;34m\u001b[0m\u001b[0m\n\u001b[1;32m      5\u001b[0m \u001b[0mprint\u001b[0m\u001b[0;34m(\u001b[0m\u001b[0;34m'shapes'\u001b[0m\u001b[0;34m,\u001b[0m \u001b[0mdata_test\u001b[0m\u001b[0;34m.\u001b[0m\u001b[0mshape\u001b[0m\u001b[0;34m,\u001b[0m \u001b[0mdata_train\u001b[0m\u001b[0;34m.\u001b[0m\u001b[0mshape\u001b[0m\u001b[0;34m)\u001b[0m\u001b[0;34m\u001b[0m\u001b[0m\n",
      "\u001b[0;31mNameError\u001b[0m: name 'data_train_orig' is not defined"
     ]
    }
   ],
   "source": [
    "#Attack: Analysis\n",
    "data_train = data_train_orig\n",
    "data_label = np.array(one_hot_train_label_attack_category_orig['Analysis'])\n",
    "data_train, data_test, train_labels, test_labels = train_test_split(data_train, data_label, test_size = 0.25, random_state = 50)\n",
    "print('shapes', data_test.shape, data_train.shape)\n",
    "print(np.sum(test_labels, axis = 0))\n",
    "weight = 100\n",
    "\n",
    "sample_weight = np.array([weight if i == 1 else 1 for i in train_labels])\n",
    "sample_weight"
   ]
  },
  {
   "cell_type": "code",
   "execution_count": null,
   "metadata": {},
   "outputs": [],
   "source": [
    "rf = RandomForestClassifier(n_estimators = 5, n_jobs=2, random_state=0, max_depth=10)\n",
    "\n",
    "rf.fit(data_train, train_labels, sample_weight)\n",
    "\n",
    "#predictions on test data\n",
    "predictions = rf.predict(data_test)\n",
    "confusion_matrix(test_labels, predictions)"
   ]
  },
  {
   "cell_type": "code",
   "execution_count": null,
   "metadata": {},
   "outputs": [],
   "source": [
    "precision_recall_fscore_support(test_labels, predictions, average='macro')"
   ]
  },
  {
   "cell_type": "code",
   "execution_count": null,
   "metadata": {},
   "outputs": [],
   "source": [
    "#Attack: Backdoor\n",
    "weight = 100\n",
    "\n",
    "data_train = data_train_orig\n",
    "data_label = np.array(one_hot_train_label_attack_category_orig['Backdoors'])\n",
    "data_train, data_test, train_labels, test_labels = train_test_split(data_train, data_label, test_size = 0.25, random_state = 50)\n",
    "print('shapes', data_test.shape, data_train.shape)\n",
    "print(np.sum(test_labels, axis = 0))\n",
    "\n",
    "\n",
    "sample_weight = np.array([weight if i == 1 else 1 for i in train_labels])\n",
    "\n",
    "rf = RandomForestClassifier(n_estimators = 10, n_jobs=2, random_state=0, max_depth=10)\n",
    "\n",
    "rf.fit(data_train, train_labels, sample_weight)\n",
    "\n",
    "#predictions on test data\n",
    "predictions = rf.predict(data_test)\n",
    "confusion_matrix(test_labels, predictions)\n"
   ]
  },
  {
   "cell_type": "code",
   "execution_count": null,
   "metadata": {},
   "outputs": [],
   "source": [
    "precision_recall_fscore_support(test_labels, predictions, average='macro')"
   ]
  },
  {
   "cell_type": "code",
   "execution_count": null,
   "metadata": {},
   "outputs": [],
   "source": [
    "#Attack: DoS\n",
    "weight = 10\n",
    "\n",
    "data_train = data_train_orig\n",
    "data_label = np.array(one_hot_train_label_attack_category_orig['DoS'])\n",
    "data_train, data_test, train_labels, test_labels = train_test_split(data_train, data_label, test_size = 0.25, random_state = 50)\n",
    "print('shapes', data_test.shape, data_train.shape)\n",
    "print(np.sum(test_labels, axis = 0))\n",
    "\n",
    "\n",
    "sample_weight = np.array([weight if i == 1 else 1 for i in train_labels])\n",
    "\n",
    "rf = RandomForestClassifier(n_estimators = 10, n_jobs=2, random_state=0, max_depth=10)\n",
    "\n",
    "rf.fit(data_train, train_labels, sample_weight)\n",
    "\n",
    "#predictions on test data\n",
    "predictions = rf.predict(data_test)\n",
    "confm = confusion_matrix(test_labels, predictions)\n",
    "print(confm)\n",
    "precision_recall_fscore_support(test_labels, predictions, average='macro')"
   ]
  },
  {
   "cell_type": "code",
   "execution_count": null,
   "metadata": {},
   "outputs": [],
   "source": [
    "#Attack: Exploits\n",
    "weight = 5\n",
    "\n",
    "data_train = data_train_orig\n",
    "data_label = np.array(one_hot_train_label_attack_category_orig['Exploits'])\n",
    "data_train, data_test, train_labels, test_labels = train_test_split(data_train, data_label, test_size = 0.25, random_state = 50)\n",
    "print('shapes', data_test.shape, data_train.shape)\n",
    "print(np.sum(test_labels, axis = 0))\n",
    "\n",
    "\n",
    "sample_weight = np.array([weight if i == 1 else 1 for i in train_labels])\n",
    "\n",
    "rf = RandomForestClassifier(n_estimators = 10, n_jobs=2, random_state=0, max_depth=10)\n",
    "\n",
    "rf.fit(data_train, train_labels, sample_weight)\n",
    "\n",
    "#predictions on test data\n",
    "predictions = rf.predict(data_test)\n",
    "confm = confusion_matrix(test_labels, predictions)\n",
    "print(confm)\n",
    "precision_recall_fscore_support(test_labels, predictions, average='macro')"
   ]
  },
  {
   "cell_type": "code",
   "execution_count": null,
   "metadata": {},
   "outputs": [],
   "source": [
    "#Attack: Fuzzers\n",
    "weight = 10\n",
    "\n",
    "data_train = data_train_orig\n",
    "data_label = np.array(one_hot_train_label_attack_category_orig[' Fuzzers'])\n",
    "data_train, data_test, train_labels, test_labels = train_test_split(data_train, data_label, test_size = 0.25, random_state = 50)\n",
    "print('shapes', data_test.shape, data_train.shape)\n",
    "print(np.sum(test_labels, axis = 0))\n",
    "\n",
    "\n",
    "sample_weight = np.array([weight if i == 1 else 1 for i in train_labels])\n",
    "\n",
    "rf = RandomForestClassifier(n_estimators = 10, n_jobs=2, random_state=0, max_depth=10)\n",
    "\n",
    "rf.fit(data_train, train_labels, sample_weight)\n",
    "\n",
    "#predictions on test data\n",
    "predictions = rf.predict(data_test)\n",
    "confm = confusion_matrix(test_labels, predictions)\n",
    "print(confm)\n",
    "precision_recall_fscore_support(test_labels, predictions, average='macro')"
   ]
  },
  {
   "cell_type": "code",
   "execution_count": null,
   "metadata": {},
   "outputs": [],
   "source": [
    "#Attack: Generic\n",
    "weight = 1\n",
    "\n",
    "data_train = data_train_orig\n",
    "data_label = np.array(one_hot_train_label_attack_category_orig['Generic'])\n",
    "data_train, data_test, train_labels, test_labels = train_test_split(data_train, data_label, test_size = 0.25, random_state = 50)\n",
    "print('shapes', data_test.shape, data_train.shape)\n",
    "print(np.sum(test_labels, axis = 0))\n",
    "\n",
    "\n",
    "sample_weight = np.array([weight if i == 1 else 1 for i in train_labels])\n",
    "\n",
    "rf = RandomForestClassifier(n_estimators = 10, n_jobs=2, random_state=0, max_depth=10)\n",
    "\n",
    "rf.fit(data_train, train_labels, sample_weight)\n",
    "\n",
    "#predictions on test data\n",
    "predictions = rf.predict(data_test)\n",
    "confm = confusion_matrix(test_labels, predictions)\n",
    "print(confm)\n",
    "precision_recall_fscore_support(test_labels, predictions, average='macro')"
   ]
  },
  {
   "cell_type": "code",
   "execution_count": null,
   "metadata": {},
   "outputs": [],
   "source": [
    "#Attack: Reconnaissance\n",
    "weight = 10\n",
    "\n",
    "data_train = data_train_orig\n",
    "data_label = np.array(one_hot_train_label_attack_category_orig['Reconnaissance'])\n",
    "data_train, data_test, train_labels, test_labels = train_test_split(data_train, data_label, test_size = 0.25, random_state = 50)\n",
    "print('shapes', data_test.shape, data_train.shape)\n",
    "print(np.sum(test_labels, axis = 0))\n",
    "\n",
    "\n",
    "sample_weight = np.array([weight if i == 1 else 1 for i in train_labels])\n",
    "\n",
    "rf = RandomForestClassifier(n_estimators = 10, n_jobs=2, random_state=0, max_depth=10)\n",
    "\n",
    "rf.fit(data_train, train_labels, sample_weight)\n",
    "\n",
    "#predictions on test data\n",
    "predictions = rf.predict(data_test)\n",
    "confm = confusion_matrix(test_labels, predictions)\n",
    "print(confm)\n",
    "precision_recall_fscore_support(test_labels, predictions, average='macro')"
   ]
  },
  {
   "cell_type": "code",
   "execution_count": null,
   "metadata": {},
   "outputs": [],
   "source": [
    "#Attack: Shellcode\n",
    "weight = 1000\n",
    "\n",
    "data_train = data_train_orig\n",
    "data_label = np.array(one_hot_train_label_attack_category_orig['Shellcode'])\n",
    "data_train, data_test, train_labels, test_labels = train_test_split(data_train, data_label, test_size = 0.25, random_state = 50)\n",
    "print('shapes', data_test.shape, data_train.shape)\n",
    "print(np.sum(test_labels, axis = 0))\n",
    "\n",
    "\n",
    "sample_weight = np.array([weight if i == 1 else 1 for i in train_labels])\n",
    "\n",
    "rf = RandomForestClassifier(n_estimators = 10, n_jobs=2, random_state=0, max_depth=10)\n",
    "\n",
    "rf.fit(data_train, train_labels, sample_weight)\n",
    "\n",
    "#predictions on test data\n",
    "predictions = rf.predict(data_test)\n",
    "confm = confusion_matrix(test_labels, predictions)\n",
    "print(confm)\n",
    "precision_recall_fscore_support(test_labels, predictions, average='macro')"
   ]
  },
  {
   "cell_type": "code",
   "execution_count": null,
   "metadata": {},
   "outputs": [],
   "source": []
  }
 ],
 "metadata": {
  "kernelspec": {
   "display_name": "Python 3",
   "language": "python",
   "name": "python3"
  },
  "language_info": {
   "codemirror_mode": {
    "name": "ipython",
    "version": 3
   },
   "file_extension": ".py",
   "mimetype": "text/x-python",
   "name": "python",
   "nbconvert_exporter": "python",
   "pygments_lexer": "ipython3",
   "version": "3.7.4"
  }
 },
 "nbformat": 4,
 "nbformat_minor": 2
}
